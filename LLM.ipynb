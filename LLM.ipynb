{
 "cells": [
  {
   "cell_type": "code",
   "execution_count": 3,
   "id": "6746e9a3-3246-4124-af6c-e2ef256564f2",
   "metadata": {},
   "outputs": [
    {
     "data": {
      "application/vnd.jupyter.widget-view+json": {
       "model_id": "ddff3b392187415a85f835f1b2bd1645",
       "version_major": 2,
       "version_minor": 0
      },
      "text/plain": [
       "Dropdown(description='Restaurants:', options=('China Live', 'Bardo Lounge & Supper Club', 'STK - San Francisco…"
      ]
     },
     "metadata": {},
     "output_type": "display_data"
    },
    {
     "data": {
      "application/vnd.jupyter.widget-view+json": {
       "model_id": "ef86a70d56a74b3e85249e3fab386cbb",
       "version_major": 2,
       "version_minor": 0
      },
      "text/plain": [
       "Output()"
      ]
     },
     "metadata": {},
     "output_type": "display_data"
    }
   ],
   "source": [
    "import pandas as pd\n",
    "import openai\n",
    "import ipywidgets as widgets\n",
    "from IPython.display import display, Image\n",
    "\n",
    "# Load your dataset\n",
    "df = pd.read_csv('your_path')\n",
    "\n",
    "# Ensure comments and image URLs are valid (in case there are missing values)\n",
    "df['comments'] = df['comments'].fillna(\"No comments available\")\n",
    "df['image_url'] = df['image_url'].fillna(\"\")\n",
    "\n",
    "# Step 1: Function to get all comments for a restaurant name\n",
    "def get_restaurant_comments(restaurant_name):\n",
    "    # Filter the DataFrame for the restaurant name\n",
    "    restaurant = df[df['rest_name'].str.contains(restaurant_name, case=False, na=False)]\n",
    "    \n",
    "    if restaurant.empty:\n",
    "        return None, None\n",
    "    \n",
    "    # Get the comments and image URL for the restaurant\n",
    "    comments = restaurant['comments'].tolist()\n",
    "    image_url = restaurant['image_url'].iloc[0]  # Assuming each restaurant has one image URL\n",
    "    \n",
    "    # Join all the comments into a single string\n",
    "    all_comments = \" \".join(comments)\n",
    "    \n",
    "    return all_comments, image_url\n",
    "\n",
    "# Step 2: Function to summarize the comments using OpenAI API\n",
    "def summarize_comments(restaurant_name):\n",
    "    openai.api_key = 'your_key'  # Replace with your actual OpenAI API key\n",
    "    \n",
    "    # Get the comments and image URL for the restaurant\n",
    "    comments, image_url = get_restaurant_comments(restaurant_name)\n",
    "    \n",
    "    if comments is None:\n",
    "        return \"No restaurant found with that name.\", None\n",
    "    \n",
    "    try:\n",
    "        # Use OpenAI API to summarize comments\n",
    "        response = openai.ChatCompletion.create(\n",
    "            model=\"gpt-3.5-turbo\",  # You can also use \"gpt-4\" if you have access\n",
    "            messages=[\n",
    "                {\"role\": \"system\", \"content\": \"You are a helpful assistant. Summarize the following restaurant reviews.\"},\n",
    "                {\"role\": \"user\", \"content\": comments}\n",
    "            ]\n",
    "        )\n",
    "        \n",
    "        summary = response['choices'][0]['message']['content']\n",
    "        return summary, image_url\n",
    "    except Exception as e:\n",
    "        return f\"An error occurred while summarizing comments: {str(e)}\", None\n",
    "\n",
    "# Step 3: Function to display restaurant options and output\n",
    "def display_restaurant_options():\n",
    "    # Get a list of restaurant names\n",
    "    restaurant_names = df['rest_name'].unique().tolist()\n",
    "\n",
    "    # Create a dropdown menu with restaurant names\n",
    "    dropdown = widgets.Dropdown(\n",
    "        options=restaurant_names,\n",
    "        description='Restaurants:',\n",
    "        disabled=False,\n",
    "    )\n",
    "\n",
    "    # Output widget for showing the summary and image\n",
    "    output = widgets.Output()\n",
    "\n",
    "    def on_change(change):\n",
    "        with output:\n",
    "            output.clear_output()  # Clear previous output\n",
    "            restaurant_name = change['new']\n",
    "            summary, image_url = summarize_comments(restaurant_name)\n",
    "            print(f\"Summary for {restaurant_name}: {summary}\")\n",
    "            if image_url:\n",
    "                display(Image(url=image_url))\n",
    "            else:\n",
    "                print(\"No image available for this restaurant.\")\n",
    "\n",
    "    # Trigger function when dropdown value changes\n",
    "    dropdown.observe(on_change, names='value')\n",
    "\n",
    "    # Display the dropdown and output widgets\n",
    "    display(dropdown, output)\n",
    "\n",
    "# Example Usage\n",
    "display_restaurant_options()\n"
   ]
  },
  {
   "cell_type": "code",
   "execution_count": null,
   "id": "a9454d5a-e634-4a4e-871c-284852af1a6b",
   "metadata": {},
   "outputs": [],
   "source": []
  }
 ],
 "metadata": {
  "kernelspec": {
   "display_name": "Python 3 (ipykernel)",
   "language": "python",
   "name": "python3"
  },
  "language_info": {
   "codemirror_mode": {
    "name": "ipython",
    "version": 3
   },
   "file_extension": ".py",
   "mimetype": "text/x-python",
   "name": "python",
   "nbconvert_exporter": "python",
   "pygments_lexer": "ipython3",
   "version": "3.12.4"
  }
 },
 "nbformat": 4,
 "nbformat_minor": 5
}
